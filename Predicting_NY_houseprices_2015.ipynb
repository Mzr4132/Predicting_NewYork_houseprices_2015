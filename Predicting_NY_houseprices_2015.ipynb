{
 "cells": [
  {
   "cell_type": "markdown",
   "metadata": {},
   "source": [
    "# Prediction of New York Housing Prices in 2015\n",
    "\n",
    "In this notebook Ridge regression and Lasso regression is done to assess the accuracy of predicting house prices. The objective here is to assess wether the image data from sales_data_2015_DF-inception-conv.csv shows a big increase in predictive power. First the data from sales_data_2015.csv is explored in a data analysis. Then progressively features are scaled appropriately using scalers. This also goes for the image dataset sales_data_2015_DF-inception-conv.csv. The idea is that if you take a photo from the house from above that you can enhance predictive power in the price. After this categorical variables are made into dummies. \n",
    "\n",
    "Lastly the data is split into a train, validation and test set. It is then analysed using cross fold validation. A noticeable conclusion is that Ridge is seemingly having more power with a R^2 score of ~0.42 oppossed to Lasso's ~0.34. Both scores predictively are rather low. It is observed that even with a very low alpha of 0.01 a lot of features, especially those of the image dataset get penalized to 0 in Lasso regression. It can be said that so many features that add almost no value are a poor selection of features and that the image data's predictive power is rather low.\n",
    "\n",
    "data is available here:  https://onedrive.live.com/?id=DF3D4CFD086B9DF1%21231&cid=DF3D4CFD086B9DF1"
   ]
  },
  {
   "cell_type": "code",
   "execution_count": 1,
   "metadata": {},
   "outputs": [],
   "source": [
    "%matplotlib inline\n",
    "import pandas as pd\n",
    "import seaborn as sns\n",
    "import warnings \n",
    "warnings.filterwarnings('ignore')\n",
    "%matplotlib inline\n",
    "sns.set(style='white', context='notebook', palette='deep') \n",
    "import matplotlib.style as style\n",
    "style.use('fivethirtyeight')\n",
    "import numpy as np\n",
    "import matplotlib.pyplot as plt\n",
    "import matplotlib as mpl\n",
    "from matplotlib.colors import ListedColormap, colorConverter, LinearSegmentedColormap\n",
    "from sklearn.linear_model import Lasso, Ridge\n",
    "from sklearn.preprocessing import RobustScaler\n",
    "from sklearn.preprocessing import MinMaxScaler\n",
    "from sklearn.preprocessing import StandardScaler\n",
    "from sklearn.model_selection import cross_val_score\n",
    "\n",
    "\n",
    "from sklearn.linear_model import LinearRegression\n",
    "from sklearn.model_selection import train_test_split"
   ]
  },
  {
   "cell_type": "code",
   "execution_count": 2,
   "metadata": {},
   "outputs": [
    {
     "data": {
      "text/html": [
       "<div>\n",
       "<style scoped>\n",
       "    .dataframe tbody tr th:only-of-type {\n",
       "        vertical-align: middle;\n",
       "    }\n",
       "\n",
       "    .dataframe tbody tr th {\n",
       "        vertical-align: top;\n",
       "    }\n",
       "\n",
       "    .dataframe thead th {\n",
       "        text-align: right;\n",
       "    }\n",
       "</style>\n",
       "<table border=\"1\" class=\"dataframe\">\n",
       "  <thead>\n",
       "    <tr style=\"text-align: right;\">\n",
       "      <th></th>\n",
       "      <th>Unnamed: 0</th>\n",
       "      <th>Sale_id</th>\n",
       "      <th>bbl_id</th>\n",
       "      <th>year</th>\n",
       "      <th>borough</th>\n",
       "      <th>bldg_ctgy</th>\n",
       "      <th>tax_cls_p</th>\n",
       "      <th>block</th>\n",
       "      <th>lot</th>\n",
       "      <th>easmnt</th>\n",
       "      <th>...</th>\n",
       "      <th>land_sqft</th>\n",
       "      <th>tot_sqft</th>\n",
       "      <th>yr_built</th>\n",
       "      <th>tax_cls_s</th>\n",
       "      <th>bldg_cls_s</th>\n",
       "      <th>sale_date</th>\n",
       "      <th>price</th>\n",
       "      <th>usable</th>\n",
       "      <th>long</th>\n",
       "      <th>lat</th>\n",
       "    </tr>\n",
       "  </thead>\n",
       "  <tbody>\n",
       "    <tr>\n",
       "      <th>0</th>\n",
       "      <td>0</td>\n",
       "      <td>1</td>\n",
       "      <td>2290528</td>\n",
       "      <td>2015</td>\n",
       "      <td>2</td>\n",
       "      <td>01  ONE FAMILY DWELLINGS</td>\n",
       "      <td>1</td>\n",
       "      <td>2905</td>\n",
       "      <td>28</td>\n",
       "      <td>NaN</td>\n",
       "      <td>...</td>\n",
       "      <td>4750</td>\n",
       "      <td>2619</td>\n",
       "      <td>1899</td>\n",
       "      <td>1</td>\n",
       "      <td>A9</td>\n",
       "      <td>8/7/2015</td>\n",
       "      <td>0</td>\n",
       "      <td>N</td>\n",
       "      <td>-73.901338</td>\n",
       "      <td>40.841229</td>\n",
       "    </tr>\n",
       "    <tr>\n",
       "      <th>1</th>\n",
       "      <td>1</td>\n",
       "      <td>2</td>\n",
       "      <td>2290528</td>\n",
       "      <td>2015</td>\n",
       "      <td>2</td>\n",
       "      <td>01  ONE FAMILY DWELLINGS</td>\n",
       "      <td>1</td>\n",
       "      <td>2905</td>\n",
       "      <td>28</td>\n",
       "      <td>NaN</td>\n",
       "      <td>...</td>\n",
       "      <td>4750</td>\n",
       "      <td>2619</td>\n",
       "      <td>1899</td>\n",
       "      <td>1</td>\n",
       "      <td>A9</td>\n",
       "      <td>8/7/2015</td>\n",
       "      <td>0</td>\n",
       "      <td>N</td>\n",
       "      <td>-73.901338</td>\n",
       "      <td>40.841229</td>\n",
       "    </tr>\n",
       "    <tr>\n",
       "      <th>2</th>\n",
       "      <td>2</td>\n",
       "      <td>3</td>\n",
       "      <td>230352</td>\n",
       "      <td>2015</td>\n",
       "      <td>2</td>\n",
       "      <td>01  ONE FAMILY DWELLINGS</td>\n",
       "      <td>1</td>\n",
       "      <td>3035</td>\n",
       "      <td>2</td>\n",
       "      <td>NaN</td>\n",
       "      <td>...</td>\n",
       "      <td>1287</td>\n",
       "      <td>2528</td>\n",
       "      <td>1899</td>\n",
       "      <td>1</td>\n",
       "      <td>S1</td>\n",
       "      <td>12/18/2015</td>\n",
       "      <td>0</td>\n",
       "      <td>N</td>\n",
       "      <td>-73.898331</td>\n",
       "      <td>40.848648</td>\n",
       "    </tr>\n",
       "    <tr>\n",
       "      <th>3</th>\n",
       "      <td>3</td>\n",
       "      <td>4</td>\n",
       "      <td>2303936</td>\n",
       "      <td>2015</td>\n",
       "      <td>2</td>\n",
       "      <td>01  ONE FAMILY DWELLINGS</td>\n",
       "      <td>1</td>\n",
       "      <td>3039</td>\n",
       "      <td>36</td>\n",
       "      <td>NaN</td>\n",
       "      <td>...</td>\n",
       "      <td>2500</td>\n",
       "      <td>2452</td>\n",
       "      <td>1910</td>\n",
       "      <td>1</td>\n",
       "      <td>S1</td>\n",
       "      <td>8/18/2015</td>\n",
       "      <td>0</td>\n",
       "      <td>N</td>\n",
       "      <td>-73.893338</td>\n",
       "      <td>40.856136</td>\n",
       "    </tr>\n",
       "    <tr>\n",
       "      <th>4</th>\n",
       "      <td>4</td>\n",
       "      <td>5</td>\n",
       "      <td>2303936</td>\n",
       "      <td>2015</td>\n",
       "      <td>2</td>\n",
       "      <td>01  ONE FAMILY DWELLINGS</td>\n",
       "      <td>1</td>\n",
       "      <td>3039</td>\n",
       "      <td>36</td>\n",
       "      <td>NaN</td>\n",
       "      <td>...</td>\n",
       "      <td>2500</td>\n",
       "      <td>2452</td>\n",
       "      <td>1910</td>\n",
       "      <td>1</td>\n",
       "      <td>S1</td>\n",
       "      <td>7/1/2015</td>\n",
       "      <td>400000</td>\n",
       "      <td>Y</td>\n",
       "      <td>-73.893338</td>\n",
       "      <td>40.856136</td>\n",
       "    </tr>\n",
       "  </tbody>\n",
       "</table>\n",
       "<p>5 rows × 27 columns</p>\n",
       "</div>"
      ],
      "text/plain": [
       "   Unnamed: 0  Sale_id   bbl_id  year  borough                 bldg_ctgy  \\\n",
       "0           0        1  2290528  2015        2  01  ONE FAMILY DWELLINGS   \n",
       "1           1        2  2290528  2015        2  01  ONE FAMILY DWELLINGS   \n",
       "2           2        3   230352  2015        2  01  ONE FAMILY DWELLINGS   \n",
       "3           3        4  2303936  2015        2  01  ONE FAMILY DWELLINGS   \n",
       "4           4        5  2303936  2015        2  01  ONE FAMILY DWELLINGS   \n",
       "\n",
       "  tax_cls_p  block  lot easmnt  ... land_sqft tot_sqft yr_built  tax_cls_s  \\\n",
       "0         1   2905   28    NaN  ...      4750     2619     1899          1   \n",
       "1         1   2905   28    NaN  ...      4750     2619     1899          1   \n",
       "2         1   3035    2    NaN  ...      1287     2528     1899          1   \n",
       "3         1   3039   36    NaN  ...      2500     2452     1910          1   \n",
       "4         1   3039   36    NaN  ...      2500     2452     1910          1   \n",
       "\n",
       "   bldg_cls_s   sale_date   price  usable       long        lat  \n",
       "0          A9    8/7/2015       0       N -73.901338  40.841229  \n",
       "1          A9    8/7/2015       0       N -73.901338  40.841229  \n",
       "2          S1  12/18/2015       0       N -73.898331  40.848648  \n",
       "3          S1   8/18/2015       0       N -73.893338  40.856136  \n",
       "4          S1    7/1/2015  400000       Y -73.893338  40.856136  \n",
       "\n",
       "[5 rows x 27 columns]"
      ]
     },
     "execution_count": 2,
     "metadata": {},
     "output_type": "execute_result"
    }
   ],
   "source": [
    "df = pd.read_csv('sales_data_2015.csv', header=0)\n",
    "df[:5]\n"
   ]
  },
  {
   "cell_type": "code",
   "execution_count": 3,
   "metadata": {},
   "outputs": [],
   "source": [
    "dfpics = pd.read_csv('sales_data_2015_DF-inception-conv.csv', header=0)\n"
   ]
  },
  {
   "cell_type": "code",
   "execution_count": 4,
   "metadata": {},
   "outputs": [],
   "source": [
    "df = pd.merge(df, dfpics, on='Sale_id')"
   ]
  },
  {
   "cell_type": "code",
   "execution_count": 5,
   "metadata": {},
   "outputs": [
    {
     "data": {
      "text/html": [
       "<div>\n",
       "<style scoped>\n",
       "    .dataframe tbody tr th:only-of-type {\n",
       "        vertical-align: middle;\n",
       "    }\n",
       "\n",
       "    .dataframe tbody tr th {\n",
       "        vertical-align: top;\n",
       "    }\n",
       "\n",
       "    .dataframe thead th {\n",
       "        text-align: right;\n",
       "    }\n",
       "</style>\n",
       "<table border=\"1\" class=\"dataframe\">\n",
       "  <thead>\n",
       "    <tr style=\"text-align: right;\">\n",
       "      <th></th>\n",
       "      <th>Unnamed: 0_x</th>\n",
       "      <th>Sale_id</th>\n",
       "      <th>bbl_id_x</th>\n",
       "      <th>year</th>\n",
       "      <th>borough</th>\n",
       "      <th>bldg_ctgy</th>\n",
       "      <th>tax_cls_p</th>\n",
       "      <th>block</th>\n",
       "      <th>lot</th>\n",
       "      <th>easmnt</th>\n",
       "      <th>...</th>\n",
       "      <th>22</th>\n",
       "      <th>23</th>\n",
       "      <th>24</th>\n",
       "      <th>25</th>\n",
       "      <th>26</th>\n",
       "      <th>27</th>\n",
       "      <th>28</th>\n",
       "      <th>29</th>\n",
       "      <th>30</th>\n",
       "      <th>31</th>\n",
       "    </tr>\n",
       "  </thead>\n",
       "  <tbody>\n",
       "    <tr>\n",
       "      <th>0</th>\n",
       "      <td>0</td>\n",
       "      <td>1</td>\n",
       "      <td>2290528</td>\n",
       "      <td>2015</td>\n",
       "      <td>2</td>\n",
       "      <td>01  ONE FAMILY DWELLINGS</td>\n",
       "      <td>1</td>\n",
       "      <td>2905</td>\n",
       "      <td>28</td>\n",
       "      <td>NaN</td>\n",
       "      <td>...</td>\n",
       "      <td>0.600213</td>\n",
       "      <td>-0.493792</td>\n",
       "      <td>-0.047002</td>\n",
       "      <td>-0.092415</td>\n",
       "      <td>0.427163</td>\n",
       "      <td>0.688372</td>\n",
       "      <td>-0.549481</td>\n",
       "      <td>-0.538056</td>\n",
       "      <td>0.358792</td>\n",
       "      <td>-0.103146</td>\n",
       "    </tr>\n",
       "    <tr>\n",
       "      <th>1</th>\n",
       "      <td>1</td>\n",
       "      <td>2</td>\n",
       "      <td>2290528</td>\n",
       "      <td>2015</td>\n",
       "      <td>2</td>\n",
       "      <td>01  ONE FAMILY DWELLINGS</td>\n",
       "      <td>1</td>\n",
       "      <td>2905</td>\n",
       "      <td>28</td>\n",
       "      <td>NaN</td>\n",
       "      <td>...</td>\n",
       "      <td>0.600213</td>\n",
       "      <td>-0.493792</td>\n",
       "      <td>-0.047002</td>\n",
       "      <td>-0.092415</td>\n",
       "      <td>0.427163</td>\n",
       "      <td>0.688372</td>\n",
       "      <td>-0.549481</td>\n",
       "      <td>-0.538056</td>\n",
       "      <td>0.358792</td>\n",
       "      <td>-0.103146</td>\n",
       "    </tr>\n",
       "    <tr>\n",
       "      <th>2</th>\n",
       "      <td>2</td>\n",
       "      <td>3</td>\n",
       "      <td>230352</td>\n",
       "      <td>2015</td>\n",
       "      <td>2</td>\n",
       "      <td>01  ONE FAMILY DWELLINGS</td>\n",
       "      <td>1</td>\n",
       "      <td>3035</td>\n",
       "      <td>2</td>\n",
       "      <td>NaN</td>\n",
       "      <td>...</td>\n",
       "      <td>0.502646</td>\n",
       "      <td>-0.414158</td>\n",
       "      <td>-0.037535</td>\n",
       "      <td>-0.060672</td>\n",
       "      <td>0.358382</td>\n",
       "      <td>0.585332</td>\n",
       "      <td>-0.458778</td>\n",
       "      <td>-0.447776</td>\n",
       "      <td>0.301268</td>\n",
       "      <td>-0.086599</td>\n",
       "    </tr>\n",
       "    <tr>\n",
       "      <th>3</th>\n",
       "      <td>3</td>\n",
       "      <td>4</td>\n",
       "      <td>2303936</td>\n",
       "      <td>2015</td>\n",
       "      <td>2</td>\n",
       "      <td>01  ONE FAMILY DWELLINGS</td>\n",
       "      <td>1</td>\n",
       "      <td>3039</td>\n",
       "      <td>36</td>\n",
       "      <td>NaN</td>\n",
       "      <td>...</td>\n",
       "      <td>0.503530</td>\n",
       "      <td>-0.413901</td>\n",
       "      <td>-0.038112</td>\n",
       "      <td>-0.066762</td>\n",
       "      <td>0.358489</td>\n",
       "      <td>0.580582</td>\n",
       "      <td>-0.461086</td>\n",
       "      <td>-0.449793</td>\n",
       "      <td>0.301751</td>\n",
       "      <td>-0.086144</td>\n",
       "    </tr>\n",
       "    <tr>\n",
       "      <th>4</th>\n",
       "      <td>4</td>\n",
       "      <td>5</td>\n",
       "      <td>2303936</td>\n",
       "      <td>2015</td>\n",
       "      <td>2</td>\n",
       "      <td>01  ONE FAMILY DWELLINGS</td>\n",
       "      <td>1</td>\n",
       "      <td>3039</td>\n",
       "      <td>36</td>\n",
       "      <td>NaN</td>\n",
       "      <td>...</td>\n",
       "      <td>0.503530</td>\n",
       "      <td>-0.413901</td>\n",
       "      <td>-0.038112</td>\n",
       "      <td>-0.066762</td>\n",
       "      <td>0.358489</td>\n",
       "      <td>0.580582</td>\n",
       "      <td>-0.461086</td>\n",
       "      <td>-0.449793</td>\n",
       "      <td>0.301751</td>\n",
       "      <td>-0.086144</td>\n",
       "    </tr>\n",
       "  </tbody>\n",
       "</table>\n",
       "<p>5 rows × 61 columns</p>\n",
       "</div>"
      ],
      "text/plain": [
       "   Unnamed: 0_x  Sale_id  bbl_id_x  year  borough                 bldg_ctgy  \\\n",
       "0             0        1   2290528  2015        2  01  ONE FAMILY DWELLINGS   \n",
       "1             1        2   2290528  2015        2  01  ONE FAMILY DWELLINGS   \n",
       "2             2        3    230352  2015        2  01  ONE FAMILY DWELLINGS   \n",
       "3             3        4   2303936  2015        2  01  ONE FAMILY DWELLINGS   \n",
       "4             4        5   2303936  2015        2  01  ONE FAMILY DWELLINGS   \n",
       "\n",
       "  tax_cls_p  block  lot easmnt  ...        22        23        24        25  \\\n",
       "0         1   2905   28    NaN  ...  0.600213 -0.493792 -0.047002 -0.092415   \n",
       "1         1   2905   28    NaN  ...  0.600213 -0.493792 -0.047002 -0.092415   \n",
       "2         1   3035    2    NaN  ...  0.502646 -0.414158 -0.037535 -0.060672   \n",
       "3         1   3039   36    NaN  ...  0.503530 -0.413901 -0.038112 -0.066762   \n",
       "4         1   3039   36    NaN  ...  0.503530 -0.413901 -0.038112 -0.066762   \n",
       "\n",
       "         26        27        28        29        30        31  \n",
       "0  0.427163  0.688372 -0.549481 -0.538056  0.358792 -0.103146  \n",
       "1  0.427163  0.688372 -0.549481 -0.538056  0.358792 -0.103146  \n",
       "2  0.358382  0.585332 -0.458778 -0.447776  0.301268 -0.086599  \n",
       "3  0.358489  0.580582 -0.461086 -0.449793  0.301751 -0.086144  \n",
       "4  0.358489  0.580582 -0.461086 -0.449793  0.301751 -0.086144  \n",
       "\n",
       "[5 rows x 61 columns]"
      ]
     },
     "execution_count": 5,
     "metadata": {},
     "output_type": "execute_result"
    }
   ],
   "source": [
    "df[:5]"
   ]
  },
  {
   "cell_type": "code",
   "execution_count": 6,
   "metadata": {},
   "outputs": [
    {
     "data": {
      "text/plain": [
       "Index(['Unnamed: 0_x', 'Sale_id', 'bbl_id_x', 'year', 'borough', 'bldg_ctgy',\n",
       "       'tax_cls_p', 'block', 'lot', 'easmnt', 'bldg_cls_p', 'address', 'apt',\n",
       "       'zip', 'res_unit', 'com_unit', 'tot_unit', 'land_sqft', 'tot_sqft',\n",
       "       'yr_built', 'tax_cls_s', 'bldg_cls_s', 'sale_date', 'price', 'usable',\n",
       "       'long', 'lat', 'Unnamed: 0_y', 'bbl_id_y', '0', '1', '2', '3', '4', '5',\n",
       "       '6', '7', '8', '9', '10', '11', '12', '13', '14', '15', '16', '17',\n",
       "       '18', '19', '20', '21', '22', '23', '24', '25', '26', '27', '28', '29',\n",
       "       '30', '31'],\n",
       "      dtype='object')"
      ]
     },
     "execution_count": 6,
     "metadata": {},
     "output_type": "execute_result"
    }
   ],
   "source": [
    "df.columns"
   ]
  },
  {
   "cell_type": "code",
   "execution_count": 7,
   "metadata": {},
   "outputs": [],
   "source": [
    "# Filter usable columns\n",
    "#dfreg1 = df[['price', 'borough', 'tax_cls_s','yr_built','tot_sqft','land_sqft', 'tot_unit', 'com_unit', 'res_unit', 'bldg_ctgy','usable']]\n",
    "dfreg1 = df[df['usable'] == \"Y\"]\n",
    "dfreg2 = df.drop(columns=['block','lot','easmnt','bldg_cls_p','Unnamed: 0_x', 'Sale_id', 'bbl_id_x', 'year', 'tax_cls_p', 'address', 'apt', 'zip', 'bldg_cls_s', 'sale_date', 'usable','long','lat','Unnamed: 0_y', 'bbl_id_y'])"
   ]
  },
  {
   "cell_type": "code",
   "execution_count": 8,
   "metadata": {},
   "outputs": [],
   "source": [
    "# Filter for houses between 120.000$ and 3.000.000$\n",
    "# Anything listed for less is typically not a 'house' \n",
    "#dfreg2 = dfreg1[['price', 'borough', 'tax_cls_s','yr_built','tot_sqft','land_sqft', 'tot_unit', 'com_unit', 'res_unit', 'bldg_ctgy']]\n",
    "dfreg2['bldg_ctgy'] = dfreg2['bldg_ctgy'].astype(str)\n",
    "dfreg2['borough'] = dfreg2['borough'].astype(str)\n",
    "dfreg2 = dfreg2[(dfreg2['price'] > 120000) & (dfreg2['price'] < 3000000)]"
   ]
  },
  {
   "cell_type": "code",
   "execution_count": 9,
   "metadata": {},
   "outputs": [
    {
     "data": {
      "text/plain": [
       "(49788, 42)"
      ]
     },
     "execution_count": 9,
     "metadata": {},
     "output_type": "execute_result"
    }
   ],
   "source": [
    "dfreg2.shape"
   ]
  },
  {
   "cell_type": "code",
   "execution_count": 10,
   "metadata": {},
   "outputs": [
    {
     "data": {
      "image/png": "[encoded data removed]",
      "text/plain": [
       "<Figure size 576x432 with 1 Axes>"
      ]
     },
     "metadata": {
      "needs_background": "light"
     },
     "output_type": "display_data"
    }
   ],
   "source": [
    "# Distribution of prices\n",
    "# Seems like a normal distribution except for the tail end of high values\n",
    "plt.figure(figsize=(8,6))\n",
    "\n",
    "# Plot the data and configure the settings\n",
    "sns.distplot(dfreg2['price'])\n",
    "plt.title('Price distribution')\n",
    "plt.ylabel('Normed Frequency')\n",
    "plt.show()"
   ]
  },
  {
   "cell_type": "code",
   "execution_count": 11,
   "metadata": {},
   "outputs": [],
   "source": [
    "# Applying scaler to price\n",
    "dfreg2['price'] = RobustScaler().fit_transform(np.log(dfreg2['price']).values.reshape(-1,1))\n"
   ]
  },
  {
   "cell_type": "code",
   "execution_count": 12,
   "metadata": {},
   "outputs": [
    {
     "data": {
      "image/png": "[encoded data removed]",
      "text/plain": [
       "<Figure size 432x288 with 1 Axes>"
      ]
     },
     "metadata": {
      "needs_background": "light"
     },
     "output_type": "display_data"
    }
   ],
   "source": [
    "# Price seems like a normal distribution once the Robustscaler is applied\n",
    "sns.distplot(dfreg2['price'])\n",
    "plt.title('Price distribution')\n",
    "plt.ylabel('Normed Frequency')\n",
    "plt.show()"
   ]
  },
  {
   "cell_type": "code",
   "execution_count": 13,
   "metadata": {},
   "outputs": [
    {
     "data": {
      "text/plain": [
       "borough      49788\n",
       "bldg_ctgy    49788\n",
       "res_unit     49788\n",
       "com_unit     49788\n",
       "tot_unit     49788\n",
       "land_sqft    49788\n",
       "tot_sqft     49788\n",
       "yr_built     49788\n",
       "tax_cls_s    49788\n",
       "price        49579\n",
       "0            47728\n",
       "1            47728\n",
       "2            47728\n",
       "3            47728\n",
       "4            47728\n",
       "5            47728\n",
       "6            47728\n",
       "7            47728\n",
       "8            47728\n",
       "9            47728\n",
       "10           47728\n",
       "11           47728\n",
       "12           47728\n",
       "13           47728\n",
       "14           47728\n",
       "15           47728\n",
       "16           47728\n",
       "17           47728\n",
       "18           47728\n",
       "19           47728\n",
       "20           47728\n",
       "21           47728\n",
       "22           47728\n",
       "23           47728\n",
       "24           47728\n",
       "25           47728\n",
       "26           47728\n",
       "27           47728\n",
       "28           47728\n",
       "29           47728\n",
       "30           47728\n",
       "31           47728\n",
       "dtype: int64"
      ]
     },
     "execution_count": 13,
     "metadata": {},
     "output_type": "execute_result"
    }
   ],
   "source": [
    "dfreg2[['yr_built', 'tot_sqft', 'land_sqft', 'tot_unit', 'com_unit', 'res_unit']] = dfreg2[['yr_built', 'tot_sqft', 'land_sqft', 'tot_unit', 'com_unit', 'res_unit']] + 1\n",
    "\n",
    "# Take the log and standardise\n",
    "#data_model['RESIDENTIAL UNITS'] = RobustScaler().fit_transform(np.log(data_model['RESIDENTIAL UNITS']).reshape(-1,1))\n",
    "(dfreg2 == 0).columns.value_counts()\n",
    "dfreg2.astype(bool).sum(axis=0)\n"
   ]
  },
  {
   "cell_type": "code",
   "execution_count": 14,
   "metadata": {},
   "outputs": [],
   "source": [
    "# Scaling features to be used\n",
    "dfreg2[['yr_built', 'tot_sqft', 'land_sqft', 'tot_unit', 'com_unit', 'res_unit']] = RobustScaler().fit_transform(np.log(dfreg2[['yr_built', 'tot_sqft', 'land_sqft', 'tot_unit', 'com_unit', 'res_unit']]))"
   ]
  },
  {
   "cell_type": "code",
   "execution_count": 15,
   "metadata": {},
   "outputs": [],
   "source": [
    "# Scaling the image data with the RobustScaler\n",
    "dfreg2[['1','2','3','4','5','6','7','8','9','10','11','12','13','14','15','16','17','18','19','20','21','22','23','24','25','26','27','28','29','30','31']]= RobustScaler().fit_transform(dfreg2[['1','2','3','4','5','6','7','8','9','10','11','12','13','14','15','16','17','18','19','20','21','22','23','24','25','26','27','28','29','30','31']])\n"
   ]
  },
  {
   "cell_type": "code",
   "execution_count": 16,
   "metadata": {},
   "outputs": [
    {
     "data": {
      "image/png": "[encoded data removed]",
      "text/plain": [
       "<Figure size 432x288 with 1 Axes>"
      ]
     },
     "metadata": {
      "needs_background": "light"
     },
     "output_type": "display_data"
    }
   ],
   "source": [
    "sns.distplot(dfreg2['27'])\n",
    "plt.title('Price distribution')\n",
    "plt.ylabel('Normed Frequency')\n",
    "plt.show()"
   ]
  },
  {
   "cell_type": "code",
   "execution_count": 17,
   "metadata": {},
   "outputs": [
    {
     "data": {
      "image/png": "[encoded data removed]",
      "text/plain": [
       "<Figure size 432x288 with 1 Axes>"
      ]
     },
     "metadata": {
      "needs_background": "light"
     },
     "output_type": "display_data"
    }
   ],
   "source": [
    "sns.distplot(dfreg2['tot_sqft'])\n",
    "plt.title('Price distribution')\n",
    "plt.ylabel('Normed Frequency')\n",
    "plt.show()"
   ]
  },
  {
   "cell_type": "code",
   "execution_count": 18,
   "metadata": {},
   "outputs": [
    {
     "data": {
      "text/plain": [
       "Index(['borough', 'bldg_ctgy', 'res_unit', 'com_unit', 'tot_unit', 'land_sqft',\n",
       "       'tot_sqft', 'yr_built', 'tax_cls_s', 'price', '0', '1', '2', '3', '4',\n",
       "       '5', '6', '7', '8', '9', '10', '11', '12', '13', '14', '15', '16', '17',\n",
       "       '18', '19', '20', '21', '22', '23', '24', '25', '26', '27', '28', '29',\n",
       "       '30', '31'],\n",
       "      dtype='object')"
      ]
     },
     "execution_count": 18,
     "metadata": {},
     "output_type": "execute_result"
    }
   ],
   "source": [
    "# columns to be used \n",
    "dfreg2.columns"
   ]
  },
  {
   "cell_type": "code",
   "execution_count": 19,
   "metadata": {},
   "outputs": [],
   "source": [
    "# create dummies out of categorical variables regarding housing type\n",
    "finalDF = pd.get_dummies(dfreg2[['borough','bldg_ctgy']])"
   ]
  },
  {
   "cell_type": "code",
   "execution_count": 20,
   "metadata": {},
   "outputs": [],
   "source": [
    "finalDF = pd.concat([finalDF, dfreg2], axis=1, sort=False)"
   ]
  },
  {
   "cell_type": "code",
   "execution_count": 21,
   "metadata": {},
   "outputs": [
    {
     "data": {
      "text/plain": [
       "Index(['borough_1', 'borough_2', 'borough_3', 'borough_4', 'borough_5',\n",
       "       'bldg_ctgy_01  ONE FAMILY DWELLINGS',\n",
       "       'bldg_ctgy_02  TWO FAMILY DWELLINGS',\n",
       "       'bldg_ctgy_03  THREE FAMILY DWELLINGS',\n",
       "       'bldg_ctgy_04  TAX CLASS 1 CONDOS',\n",
       "       'bldg_ctgy_05  TAX CLASS 1 VACANT LAND',\n",
       "       'bldg_ctgy_06  TAX CLASS 1 - OTHER',\n",
       "       'bldg_ctgy_07  RENTALS - WALKUP APARTMENTS',\n",
       "       'bldg_ctgy_08  RENTALS - ELEVATOR APARTMENTS',\n",
       "       'bldg_ctgy_09  COOPS - WALKUP APARTMENTS',\n",
       "       'bldg_ctgy_10  COOPS - ELEVATOR APARTMENTS',\n",
       "       'bldg_ctgy_11  SPECIAL CONDO BILLING LOTS',\n",
       "       'bldg_ctgy_11A CONDO-RENTALS',\n",
       "       'bldg_ctgy_12  CONDOS - WALKUP APARTMENTS',\n",
       "       'bldg_ctgy_13  CONDOS - ELEVATOR APARTMENTS',\n",
       "       'bldg_ctgy_14  RENTALS - 4-10 UNIT',\n",
       "       'bldg_ctgy_15  CONDOS - 2-10 UNIT RESIDENTIAL',\n",
       "       'bldg_ctgy_16  CONDOS - 2-10 UNIT WITH COMMERCIAL UNIT',\n",
       "       'bldg_ctgy_17  CONDO COOPS',\n",
       "       'bldg_ctgy_18  TAX CLASS 3 - UNTILITY PROPERTIES',\n",
       "       'bldg_ctgy_21  OFFICE BUILDINGS', 'bldg_ctgy_22  STORE BUILDINGS',\n",
       "       'bldg_ctgy_23  LOFT BUILDINGS', 'bldg_ctgy_26  OTHER HOTELS',\n",
       "       'bldg_ctgy_27  FACTORIES', 'bldg_ctgy_28  COMMERCIAL CONDOS',\n",
       "       'bldg_ctgy_29  COMMERCIAL GARAGES', 'bldg_ctgy_30  WAREHOUSES',\n",
       "       'bldg_ctgy_31  COMMERCIAL VACANT LAND',\n",
       "       'bldg_ctgy_32  HOSPITAL AND HEALTH FACILITIES',\n",
       "       'bldg_ctgy_33  EDUCATIONAL FACILITIES',\n",
       "       'bldg_ctgy_35  INDOOR PUBLIC AND CULTURAL FACILITIES',\n",
       "       'bldg_ctgy_36  OUTDOOR RECREATIONAL FACILITIES',\n",
       "       'bldg_ctgy_37  RELIGIOUS FACILITIES', 'bldg_ctgy_38  ASYLUMS AND HOMES',\n",
       "       'bldg_ctgy_41  TAX CLASS 4 - OTHER',\n",
       "       'bldg_ctgy_43  CONDO OFFICE BUILDINGS', 'bldg_ctgy_44  CONDO PARKING',\n",
       "       'bldg_ctgy_45  CONDO HOTELS', 'bldg_ctgy_46  CONDO STORE BUILDINGS',\n",
       "       'bldg_ctgy_47  CONDO NON-BUSINESS STORAGE',\n",
       "       'bldg_ctgy_49  CONDO WAREHOUSES/FACTORY/INDUS', 'borough', 'bldg_ctgy',\n",
       "       'res_unit', 'com_unit', 'tot_unit', 'land_sqft', 'tot_sqft', 'yr_built',\n",
       "       'tax_cls_s', 'price', '0', '1', '2', '3', '4', '5', '6', '7', '8', '9',\n",
       "       '10', '11', '12', '13', '14', '15', '16', '17', '18', '19', '20', '21',\n",
       "       '22', '23', '24', '25', '26', '27', '28', '29', '30', '31'],\n",
       "      dtype='object')"
      ]
     },
     "execution_count": 21,
     "metadata": {},
     "output_type": "execute_result"
    }
   ],
   "source": [
    "finalDF.columns"
   ]
  },
  {
   "cell_type": "code",
   "execution_count": 22,
   "metadata": {},
   "outputs": [],
   "source": [
    "finalDF.dtypes\n",
    "#sum(finalDF.duplicated(finalDF.columns))\n",
    "finalDF = finalDF.drop_duplicates(finalDF.columns, keep='last')\n",
    "sum(finalDF.duplicated(finalDF.columns))\n",
    "finalDF = finalDF.drop(columns=['borough','bldg_ctgy'])\n",
    "reg1_X = finalDF.drop('price', axis=1).values \n",
    "reg1_Y = finalDF['price']"
   ]
  },
  {
   "cell_type": "code",
   "execution_count": null,
   "metadata": {},
   "outputs": [],
   "source": []
  },
  {
   "cell_type": "code",
   "execution_count": 23,
   "metadata": {},
   "outputs": [
    {
     "name": "stdout",
     "output_type": "stream",
     "text": [
      "Size of training set: 38847   size of validation set: 4856   size of test set: 4856\n",
      "\n"
     ]
    }
   ],
   "source": [
    "from sklearn.preprocessing import MinMaxScaler\n",
    "# Split the dataset into training, validation and test sets, using 60%, 20%, and 20% splits.\n",
    "# Your code goes here.\n",
    "X_trainval, X_test, y_trainval, y_test = train_test_split(reg1_X, reg1_Y, random_state=1, test_size=0.10)\n",
    "\n",
    "X_train, X_valid, y_train, y_valid = train_test_split(X_trainval, y_trainval, random_state=1, test_size=0.1111111)\n",
    "\n",
    "print(\"Size of training set: {}   size of validation set: {}   size of test set:\"\n",
    "      \" {}\\n\".format(X_train.shape[0], X_valid.shape[0], X_test.shape[0]))"
   ]
  },
  {
   "cell_type": "code",
   "execution_count": 24,
   "metadata": {},
   "outputs": [
    {
     "data": {
      "text/plain": [
       "Index(['borough_1', 'borough_2', 'borough_3', 'borough_4', 'borough_5',\n",
       "       'bldg_ctgy_01  ONE FAMILY DWELLINGS',\n",
       "       'bldg_ctgy_02  TWO FAMILY DWELLINGS',\n",
       "       'bldg_ctgy_03  THREE FAMILY DWELLINGS',\n",
       "       'bldg_ctgy_04  TAX CLASS 1 CONDOS',\n",
       "       'bldg_ctgy_05  TAX CLASS 1 VACANT LAND',\n",
       "       'bldg_ctgy_06  TAX CLASS 1 - OTHER',\n",
       "       'bldg_ctgy_07  RENTALS - WALKUP APARTMENTS',\n",
       "       'bldg_ctgy_08  RENTALS - ELEVATOR APARTMENTS',\n",
       "       'bldg_ctgy_09  COOPS - WALKUP APARTMENTS',\n",
       "       'bldg_ctgy_10  COOPS - ELEVATOR APARTMENTS',\n",
       "       'bldg_ctgy_11  SPECIAL CONDO BILLING LOTS',\n",
       "       'bldg_ctgy_11A CONDO-RENTALS',\n",
       "       'bldg_ctgy_12  CONDOS - WALKUP APARTMENTS',\n",
       "       'bldg_ctgy_13  CONDOS - ELEVATOR APARTMENTS',\n",
       "       'bldg_ctgy_14  RENTALS - 4-10 UNIT',\n",
       "       'bldg_ctgy_15  CONDOS - 2-10 UNIT RESIDENTIAL',\n",
       "       'bldg_ctgy_16  CONDOS - 2-10 UNIT WITH COMMERCIAL UNIT',\n",
       "       'bldg_ctgy_17  CONDO COOPS',\n",
       "       'bldg_ctgy_18  TAX CLASS 3 - UNTILITY PROPERTIES',\n",
       "       'bldg_ctgy_21  OFFICE BUILDINGS', 'bldg_ctgy_22  STORE BUILDINGS',\n",
       "       'bldg_ctgy_23  LOFT BUILDINGS', 'bldg_ctgy_26  OTHER HOTELS',\n",
       "       'bldg_ctgy_27  FACTORIES', 'bldg_ctgy_28  COMMERCIAL CONDOS',\n",
       "       'bldg_ctgy_29  COMMERCIAL GARAGES', 'bldg_ctgy_30  WAREHOUSES',\n",
       "       'bldg_ctgy_31  COMMERCIAL VACANT LAND',\n",
       "       'bldg_ctgy_32  HOSPITAL AND HEALTH FACILITIES',\n",
       "       'bldg_ctgy_33  EDUCATIONAL FACILITIES',\n",
       "       'bldg_ctgy_35  INDOOR PUBLIC AND CULTURAL FACILITIES',\n",
       "       'bldg_ctgy_36  OUTDOOR RECREATIONAL FACILITIES',\n",
       "       'bldg_ctgy_37  RELIGIOUS FACILITIES', 'bldg_ctgy_38  ASYLUMS AND HOMES',\n",
       "       'bldg_ctgy_41  TAX CLASS 4 - OTHER',\n",
       "       'bldg_ctgy_43  CONDO OFFICE BUILDINGS', 'bldg_ctgy_44  CONDO PARKING',\n",
       "       'bldg_ctgy_45  CONDO HOTELS', 'bldg_ctgy_46  CONDO STORE BUILDINGS',\n",
       "       'bldg_ctgy_47  CONDO NON-BUSINESS STORAGE',\n",
       "       'bldg_ctgy_49  CONDO WAREHOUSES/FACTORY/INDUS', 'res_unit', 'com_unit',\n",
       "       'tot_unit', 'land_sqft', 'tot_sqft', 'yr_built', 'tax_cls_s', 'price',\n",
       "       '0', '1', '2', '3', '4', '5', '6', '7', '8', '9', '10', '11', '12',\n",
       "       '13', '14', '15', '16', '17', '18', '19', '20', '21', '22', '23', '24',\n",
       "       '25', '26', '27', '28', '29', '30', '31'],\n",
       "      dtype='object')"
      ]
     },
     "execution_count": 24,
     "metadata": {},
     "output_type": "execute_result"
    }
   ],
   "source": [
    "finalDF.columns"
   ]
  },
  {
   "cell_type": "code",
   "execution_count": 25,
   "metadata": {},
   "outputs": [],
   "source": [
    "def rmse(y_test,y_pred):\n",
    "      return np.sqrt(mean_squared_error(y_test,y_pred))"
   ]
  },
  {
   "cell_type": "code",
   "execution_count": 34,
   "metadata": {},
   "outputs": [
    {
     "name": "stdout",
     "output_type": "stream",
     "text": [
      "R^2 valid score: 0.4209530330884628\n",
      "R^2 valid score: 0.4141500171064961\n",
      "R^2 test score: 0.4293526775054656\n",
      "Coefficients:\n",
      " [ 8.28853107e-01 -4.38356439e-01  1.97256893e-01 -1.70224893e-01\n",
      " -4.17528666e-01 -1.18748014e+00 -9.73698825e-01 -7.69524000e-01\n",
      "  1.18022668e+00 -7.97587378e-01 -9.00529476e-01 -2.27311674e-01\n",
      " -4.67490385e-01  4.90237197e-01  6.14619134e-01 -2.05802047e+00\n",
      "  4.62000229e-01  1.21343889e+00  1.42196092e+00 -4.52348027e-01\n",
      "  1.51885928e+00  1.37721680e+00  5.97484558e-01  1.46090106e+00\n",
      " -4.25095171e-01 -5.12039684e-01  1.27846260e-01 -3.91388341e+00\n",
      " -4.11313511e-01  1.54501215e+00 -5.01513416e-01 -6.10215797e-01\n",
      " -4.93584982e-01 -2.93742304e-01 -1.43498290e+00 -8.01464481e-01\n",
      " -4.10646850e-01 -8.42792179e-01 -5.37962152e-01 -6.02226575e-01\n",
      "  1.68870683e+00  4.45937271e-01 -2.58252698e-01  1.71734480e+00\n",
      "  2.74182202e+00  1.28009240e+00  1.52408105e-01  3.48064909e-01\n",
      " -4.93188203e-01  1.77442955e+00  7.85989547e-01 -8.10521864e-06\n",
      " -9.64145434e-02 -4.36363894e-01  4.35147410e-01 -2.92311031e+00\n",
      " -2.11956012e-01  5.91756100e+00  1.92558039e-01 -2.08116585e-01\n",
      " -1.48346139e+00  4.55412155e-01 -2.20130770e+00  3.37110251e+00\n",
      "  3.32271113e+00  2.76050768e+00 -1.97520907e-01 -1.76976486e+00\n",
      " -1.64016745e+00 -2.73816437e+00 -4.24613207e-01 -2.57537528e+00\n",
      "  1.85146872e-01  9.79607825e-02 -1.92446020e-01 -3.46144237e-01\n",
      "  2.44102200e+00  2.92366284e-01  1.03881477e-01  3.34606142e-02\n",
      "  3.60901635e+00  3.31858981e-01 -1.39808753e+00 -5.02293280e-01\n",
      "  7.35687087e-01]\n",
      "Average 5-Fold CV Score: 0.416855484973763\n",
      "[0.42036722 0.41222292 0.41991377 0.41124978 0.42052374]\n"
     ]
    }
   ],
   "source": [
    "lr = LinearRegression().fit(X_train,y_train)\n",
    "# Print the parameters theta\n",
    "alpha = 0.01\n",
    "reg = Ridge(alpha).fit(X_train, y_train)\n",
    "#print(\"lr.coef_: {}\".format(lr.coef_))\n",
    "#print(\"lr.intercept_: {}\".format(lr.intercept_))\n",
    "\n",
    "#rmse = np.sqrt(mean_squared_error(y_test_s, y_pred_s))\n",
    "#print(\"Root Mean Squared Error: {}\".format(rmse))\n",
    "y_pred_ridge = reg.predict(X_test)\n",
    "\n",
    "cv_scores_linreg = cross_val_score(reg, X_train, y_train, cv=5)\n",
    "print(\"R^2 valid score: {}\".format(reg.score(X_train, y_train)))\n",
    "print(\"R^2 valid score: {}\".format(reg.score(X_valid, y_valid)))\n",
    "print(\"R^2 test score: {}\".format(reg.score(X_test, y_test)))\n",
    "print('Coefficients:\\n', reg.coef_)\n",
    "print(\"Average 5-Fold CV Score: {}\".format(np.mean(cv_scores_linreg)))\n",
    "print(cv_scores_linreg)"
   ]
  },
  {
   "cell_type": "code",
   "execution_count": null,
   "metadata": {},
   "outputs": [],
   "source": []
  },
  {
   "cell_type": "code",
   "execution_count": 29,
   "metadata": {},
   "outputs": [
    {
     "name": "stdout",
     "output_type": "stream",
     "text": [
      "R^2 valid score: 0.3315371684192371\n",
      "R^2 test score: 0.3582806956513872\n",
      "Index(['borough_1', 'borough_2', 'borough_3', 'borough_4', 'borough_5',\n",
      "       'bldg_ctgy_01  ONE FAMILY DWELLINGS',\n",
      "       'bldg_ctgy_02  TWO FAMILY DWELLINGS',\n",
      "       'bldg_ctgy_03  THREE FAMILY DWELLINGS',\n",
      "       'bldg_ctgy_04  TAX CLASS 1 CONDOS',\n",
      "       'bldg_ctgy_05  TAX CLASS 1 VACANT LAND',\n",
      "       'bldg_ctgy_06  TAX CLASS 1 - OTHER',\n",
      "       'bldg_ctgy_07  RENTALS - WALKUP APARTMENTS',\n",
      "       'bldg_ctgy_08  RENTALS - ELEVATOR APARTMENTS',\n",
      "       'bldg_ctgy_09  COOPS - WALKUP APARTMENTS',\n",
      "       'bldg_ctgy_10  COOPS - ELEVATOR APARTMENTS',\n",
      "       'bldg_ctgy_11  SPECIAL CONDO BILLING LOTS',\n",
      "       'bldg_ctgy_11A CONDO-RENTALS',\n",
      "       'bldg_ctgy_12  CONDOS - WALKUP APARTMENTS',\n",
      "       'bldg_ctgy_13  CONDOS - ELEVATOR APARTMENTS',\n",
      "       'bldg_ctgy_14  RENTALS - 4-10 UNIT',\n",
      "       'bldg_ctgy_15  CONDOS - 2-10 UNIT RESIDENTIAL',\n",
      "       'bldg_ctgy_16  CONDOS - 2-10 UNIT WITH COMMERCIAL UNIT',\n",
      "       'bldg_ctgy_17  CONDO COOPS',\n",
      "       'bldg_ctgy_18  TAX CLASS 3 - UNTILITY PROPERTIES',\n",
      "       'bldg_ctgy_21  OFFICE BUILDINGS', 'bldg_ctgy_22  STORE BUILDINGS',\n",
      "       'bldg_ctgy_23  LOFT BUILDINGS', 'bldg_ctgy_26  OTHER HOTELS',\n",
      "       'bldg_ctgy_27  FACTORIES', 'bldg_ctgy_28  COMMERCIAL CONDOS',\n",
      "       'bldg_ctgy_29  COMMERCIAL GARAGES', 'bldg_ctgy_30  WAREHOUSES',\n",
      "       'bldg_ctgy_31  COMMERCIAL VACANT LAND',\n",
      "       'bldg_ctgy_32  HOSPITAL AND HEALTH FACILITIES',\n",
      "       'bldg_ctgy_33  EDUCATIONAL FACILITIES',\n",
      "       'bldg_ctgy_35  INDOOR PUBLIC AND CULTURAL FACILITIES',\n",
      "       'bldg_ctgy_36  OUTDOOR RECREATIONAL FACILITIES',\n",
      "       'bldg_ctgy_37  RELIGIOUS FACILITIES', 'bldg_ctgy_38  ASYLUMS AND HOMES',\n",
      "       'bldg_ctgy_41  TAX CLASS 4 - OTHER',\n",
      "       'bldg_ctgy_43  CONDO OFFICE BUILDINGS', 'bldg_ctgy_44  CONDO PARKING',\n",
      "       'bldg_ctgy_45  CONDO HOTELS', 'bldg_ctgy_46  CONDO STORE BUILDINGS',\n",
      "       'bldg_ctgy_47  CONDO NON-BUSINESS STORAGE',\n",
      "       'bldg_ctgy_49  CONDO WAREHOUSES/FACTORY/INDUS', 'res_unit', 'com_unit',\n",
      "       'tot_unit', 'land_sqft', 'tot_sqft', 'yr_built', 'tax_cls_s', 'price',\n",
      "       '0', '1', '2', '3', '4', '5', '6', '7', '8', '9', '10', '11', '12',\n",
      "       '13', '14', '15', '16', '17', '18', '19', '20', '21', '22', '23', '24',\n",
      "       '25', '26', '27', '28', '29', '30', '31'],\n",
      "      dtype='object')\n",
      "Coefficients:\n",
      " [ 8.38422682e-01 -1.00091999e-01  3.17500275e-01  0.00000000e+00\n",
      " -4.37688057e-02 -0.00000000e+00 -0.00000000e+00 -0.00000000e+00\n",
      "  0.00000000e+00 -0.00000000e+00  0.00000000e+00  0.00000000e+00\n",
      " -0.00000000e+00 -0.00000000e+00 -0.00000000e+00 -0.00000000e+00\n",
      "  0.00000000e+00  0.00000000e+00  2.29030637e-01  0.00000000e+00\n",
      "  0.00000000e+00  0.00000000e+00 -0.00000000e+00  0.00000000e+00\n",
      "  0.00000000e+00  0.00000000e+00  0.00000000e+00 -0.00000000e+00\n",
      "  0.00000000e+00  0.00000000e+00  0.00000000e+00  0.00000000e+00\n",
      "  0.00000000e+00  0.00000000e+00 -0.00000000e+00  0.00000000e+00\n",
      "  0.00000000e+00  0.00000000e+00  0.00000000e+00  0.00000000e+00\n",
      "  0.00000000e+00 -0.00000000e+00 -0.00000000e+00  0.00000000e+00\n",
      "  0.00000000e+00 -0.00000000e+00  0.00000000e+00  0.00000000e+00\n",
      "  4.25403368e-01  2.12556928e-01  0.00000000e+00 -1.77730878e-04\n",
      "  1.01945195e-02  0.00000000e+00 -0.00000000e+00 -0.00000000e+00\n",
      "  0.00000000e+00  0.00000000e+00 -0.00000000e+00  1.40447562e-02\n",
      "  0.00000000e+00  0.00000000e+00  0.00000000e+00  0.00000000e+00\n",
      "  0.00000000e+00 -0.00000000e+00 -0.00000000e+00  0.00000000e+00\n",
      "  0.00000000e+00  0.00000000e+00  1.34066048e-02 -0.00000000e+00\n",
      " -0.00000000e+00 -0.00000000e+00  0.00000000e+00 -0.00000000e+00\n",
      "  0.00000000e+00  0.00000000e+00 -0.00000000e+00 -0.00000000e+00\n",
      " -5.80044771e-04  0.00000000e+00  0.00000000e+00 -0.00000000e+00\n",
      "  0.00000000e+00]\n",
      "Average 5-Fold CV Score: 0.33694726607431924\n",
      "[0.34524938 0.33817876 0.33895561 0.33316881 0.32918378]\n"
     ]
    }
   ],
   "source": [
    "# Print the parameters theta\n",
    "alpha = 0.01\n",
    "reg = Lasso(alpha).fit(X_train, y_train)\n",
    "#print(\"lr.coef_: {}\".format(lr.coef_))\n",
    "#print(\"lr.intercept_: {}\".format(lr.intercept_))\n",
    "\n",
    "#rmse = np.sqrt(mean_squared_error(y_test_s, y_pred_s))\n",
    "#print(\"Root Mean Squared Error: {}\".format(rmse))\n",
    "\n",
    "cv_scores_linreg = cross_val_score(reg, X_train, y_train, cv=5)\n",
    "print(\"R^2 valid score: {}\".format(reg.score(X_valid, y_valid)))\n",
    "print(\"R^2 test score: {}\".format(reg.score(X_test, y_test)))\n",
    "print(finalDF.columns)\n",
    "print('Coefficients:\\n', reg.coef_)\n",
    "print(\"Average 5-Fold CV Score: {}\".format(np.mean(cv_scores_linreg)))\n",
    "print(cv_scores_linreg)"
   ]
  },
  {
   "cell_type": "code",
   "execution_count": null,
   "metadata": {},
   "outputs": [],
   "source": []
  },
  {
   "cell_type": "code",
   "execution_count": null,
   "metadata": {},
   "outputs": [],
   "source": [
    "importances = rf_reg.feature_importances_\n",
    "\n",
    "std = np.std([tree.feature_importances_ for tree in rf_reg.estimators_], axis=0)\n",
    "indices = np.argsort(importances)[::-1]\n",
    "\n",
    "# Plot the feature importances of the forest\n",
    "plt.figure()\n",
    "plt.title(\"Feature importances\")\n",
    "plt.bar(range(X_train_s.shape[1]), importances[indices],  \n",
    "       color=\"r\", yerr=std[indices], align=\"center\")\n",
    "plt.xticks(range(X_train_s.shape[1]),X_train_s.columns[indices], rotation=90)\n",
    "#plt.xlim([-1, X_train_s.shape[1]])\n",
    "plt.xlim([-1, 10])\n",
    "plt.show()"
   ]
  },
  {
   "cell_type": "code",
   "execution_count": null,
   "metadata": {},
   "outputs": [],
   "source": []
  }
 ],
 "metadata": {
  "kernelspec": {
   "display_name": "Python 3",
   "language": "python",
   "name": "python3"
  },
  "language_info": {
   "codemirror_mode": {
    "name": "ipython",
    "version": 3
   },
   "file_extension": ".py",
   "mimetype": "text/x-python",
   "name": "python",
   "nbconvert_exporter": "python",
   "pygments_lexer": "ipython3",
   "version": "3.7.3"
  }
 },
 "nbformat": 4,
 "nbformat_minor": 2
}
